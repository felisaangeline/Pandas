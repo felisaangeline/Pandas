{
 "cells": [
  {
   "cell_type": "markdown",
   "id": "1197ec4c",
   "metadata": {},
   "source": [
    "# Formatting tampilan pada data frame"
   ]
  },
  {
   "cell_type": "markdown",
   "id": "909e82ff",
   "metadata": {},
   "source": [
    "### Import Modul dan Cek Versi"
   ]
  },
  {
   "cell_type": "code",
   "execution_count": 19,
   "id": "1ad3041b",
   "metadata": {},
   "outputs": [
    {
     "name": "stdout",
     "output_type": "stream",
     "text": [
      "1.3.4\n",
      "1.20.3\n"
     ]
    }
   ],
   "source": [
    "import pandas as pd\n",
    "import numpy as np\n",
    "\n",
    "print(pd.__version__)\n",
    "print(np.__version__)"
   ]
  },
  {
   "cell_type": "markdown",
   "id": "8bafa38b",
   "metadata": {},
   "source": [
    "### Persiapan Data Frame"
   ]
  },
  {
   "cell_type": "code",
   "execution_count": 18,
   "id": "d5bc6a60",
   "metadata": {},
   "outputs": [
    {
     "data": {
      "text/html": [
       "<div>\n",
       "<style scoped>\n",
       "    .dataframe tbody tr th:only-of-type {\n",
       "        vertical-align: middle;\n",
       "    }\n",
       "\n",
       "    .dataframe tbody tr th {\n",
       "        vertical-align: top;\n",
       "    }\n",
       "\n",
       "    .dataframe thead th {\n",
       "        text-align: right;\n",
       "    }\n",
       "</style>\n",
       "<table border=\"1\" class=\"dataframe\">\n",
       "  <thead>\n",
       "    <tr style=\"text-align: right;\">\n",
       "      <th></th>\n",
       "      <th>omset</th>\n",
       "      <th>operasional</th>\n",
       "    </tr>\n",
       "  </thead>\n",
       "  <tbody>\n",
       "    <tr>\n",
       "      <th>0</th>\n",
       "      <td>16</td>\n",
       "      <td>9</td>\n",
       "    </tr>\n",
       "    <tr>\n",
       "      <th>1</th>\n",
       "      <td>2</td>\n",
       "      <td>13</td>\n",
       "    </tr>\n",
       "    <tr>\n",
       "      <th>2</th>\n",
       "      <td>17</td>\n",
       "      <td>15</td>\n",
       "    </tr>\n",
       "    <tr>\n",
       "      <th>3</th>\n",
       "      <td>6</td>\n",
       "      <td>9</td>\n",
       "    </tr>\n",
       "    <tr>\n",
       "      <th>4</th>\n",
       "      <td>14</td>\n",
       "      <td>8</td>\n",
       "    </tr>\n",
       "  </tbody>\n",
       "</table>\n",
       "</div>"
      ],
      "text/plain": [
       "   omset  operasional\n",
       "0     16            9\n",
       "1      2           13\n",
       "2     17           15\n",
       "3      6            9\n",
       "4     14            8"
      ]
     },
     "execution_count": 18,
     "metadata": {},
     "output_type": "execute_result"
    }
   ],
   "source": [
    "n_rows = 5\n",
    "n_cols = 2\n",
    "cols = ['omset', 'operasional']\n",
    "\n",
    "df = pd.DataFrame(np.random.randint(1, 20, size=(n_rows, n_cols)),\n",
    "                  columns=cols) #data bernilai integer dengan jangkauan 1-20\n",
    "df"
   ]
  },
  {
   "cell_type": "code",
   "execution_count": 20,
   "id": "94af4524",
   "metadata": {},
   "outputs": [
    {
     "data": {
      "text/html": [
       "<div>\n",
       "<style scoped>\n",
       "    .dataframe tbody tr th:only-of-type {\n",
       "        vertical-align: middle;\n",
       "    }\n",
       "\n",
       "    .dataframe tbody tr th {\n",
       "        vertical-align: top;\n",
       "    }\n",
       "\n",
       "    .dataframe thead th {\n",
       "        text-align: right;\n",
       "    }\n",
       "</style>\n",
       "<table border=\"1\" class=\"dataframe\">\n",
       "  <thead>\n",
       "    <tr style=\"text-align: right;\">\n",
       "      <th></th>\n",
       "      <th>omset</th>\n",
       "      <th>operasional</th>\n",
       "    </tr>\n",
       "  </thead>\n",
       "  <tbody>\n",
       "    <tr>\n",
       "      <th>0</th>\n",
       "      <td>1600000</td>\n",
       "      <td>90000</td>\n",
       "    </tr>\n",
       "    <tr>\n",
       "      <th>1</th>\n",
       "      <td>200000</td>\n",
       "      <td>130000</td>\n",
       "    </tr>\n",
       "    <tr>\n",
       "      <th>2</th>\n",
       "      <td>1700000</td>\n",
       "      <td>150000</td>\n",
       "    </tr>\n",
       "    <tr>\n",
       "      <th>3</th>\n",
       "      <td>600000</td>\n",
       "      <td>90000</td>\n",
       "    </tr>\n",
       "    <tr>\n",
       "      <th>4</th>\n",
       "      <td>1400000</td>\n",
       "      <td>80000</td>\n",
       "    </tr>\n",
       "  </tbody>\n",
       "</table>\n",
       "</div>"
      ],
      "text/plain": [
       "     omset  operasional\n",
       "0  1600000        90000\n",
       "1   200000       130000\n",
       "2  1700000       150000\n",
       "3   600000        90000\n",
       "4  1400000        80000"
      ]
     },
     "execution_count": 20,
     "metadata": {},
     "output_type": "execute_result"
    }
   ],
   "source": [
    "df['omset'] = df['omset'] * 100_000 #konversi ke seratus ribu\n",
    "df['operasional'] = df['operasional'] * 10_000 #konversi ke sepuluh ribu\n",
    "df\n",
    "\n",
    "#penggunaan _ bertujuan sebagai ignore character"
   ]
  },
  {
   "cell_type": "code",
   "execution_count": 21,
   "id": "adfbf05c",
   "metadata": {},
   "outputs": [
    {
     "data": {
      "text/html": [
       "<div>\n",
       "<style scoped>\n",
       "    .dataframe tbody tr th:only-of-type {\n",
       "        vertical-align: middle;\n",
       "    }\n",
       "\n",
       "    .dataframe tbody tr th {\n",
       "        vertical-align: top;\n",
       "    }\n",
       "\n",
       "    .dataframe thead th {\n",
       "        text-align: right;\n",
       "    }\n",
       "</style>\n",
       "<table border=\"1\" class=\"dataframe\">\n",
       "  <thead>\n",
       "    <tr style=\"text-align: right;\">\n",
       "      <th></th>\n",
       "      <th>tanggal</th>\n",
       "      <th>omset</th>\n",
       "      <th>operasional</th>\n",
       "    </tr>\n",
       "  </thead>\n",
       "  <tbody>\n",
       "    <tr>\n",
       "      <th>0</th>\n",
       "      <td>2000-01-01</td>\n",
       "      <td>1600000</td>\n",
       "      <td>90000</td>\n",
       "    </tr>\n",
       "    <tr>\n",
       "      <th>1</th>\n",
       "      <td>2000-01-02</td>\n",
       "      <td>200000</td>\n",
       "      <td>130000</td>\n",
       "    </tr>\n",
       "    <tr>\n",
       "      <th>2</th>\n",
       "      <td>2000-01-03</td>\n",
       "      <td>1700000</td>\n",
       "      <td>150000</td>\n",
       "    </tr>\n",
       "    <tr>\n",
       "      <th>3</th>\n",
       "      <td>2000-01-04</td>\n",
       "      <td>600000</td>\n",
       "      <td>90000</td>\n",
       "    </tr>\n",
       "    <tr>\n",
       "      <th>4</th>\n",
       "      <td>2000-01-05</td>\n",
       "      <td>1400000</td>\n",
       "      <td>80000</td>\n",
       "    </tr>\n",
       "  </tbody>\n",
       "</table>\n",
       "</div>"
      ],
      "text/plain": [
       "     tanggal    omset  operasional\n",
       "0 2000-01-01  1600000        90000\n",
       "1 2000-01-02   200000       130000\n",
       "2 2000-01-03  1700000       150000\n",
       "3 2000-01-04   600000        90000\n",
       "4 2000-01-05  1400000        80000"
      ]
     },
     "execution_count": 21,
     "metadata": {},
     "output_type": "execute_result"
    }
   ],
   "source": [
    "df.index = pd.util.testing.makeDateIndex(n_rows, freq='D') #frekuensi daily atau interval harian\n",
    "df = df.reset_index() #berfungsi untuk index saat ini menjadi kolom biasa dengan nama index\n",
    "df = df.rename(columns={'index':'tanggal'}) #kolom index diganti menjadi kolom tanggal\n",
    "df"
   ]
  },
  {
   "cell_type": "markdown",
   "id": "12ac889b",
   "metadata": {},
   "source": [
    "# Melakukan formatting tampilan Data Frame"
   ]
  },
  {
   "cell_type": "code",
   "execution_count": 22,
   "id": "47ea1c10",
   "metadata": {},
   "outputs": [
    {
     "data": {
      "text/html": [
       "<style type=\"text/css\">\n",
       "</style>\n",
       "<table id=\"T_2af8c_\">\n",
       "  <thead>\n",
       "    <tr>\n",
       "      <th class=\"blank level0\" >&nbsp;</th>\n",
       "      <th class=\"col_heading level0 col0\" >tanggal</th>\n",
       "      <th class=\"col_heading level0 col1\" >omset</th>\n",
       "      <th class=\"col_heading level0 col2\" >operasional</th>\n",
       "    </tr>\n",
       "  </thead>\n",
       "  <tbody>\n",
       "    <tr>\n",
       "      <th id=\"T_2af8c_level0_row0\" class=\"row_heading level0 row0\" >0</th>\n",
       "      <td id=\"T_2af8c_row0_col0\" class=\"data row0 col0\" >01/01/00</td>\n",
       "      <td id=\"T_2af8c_row0_col1\" class=\"data row0 col1\" >Rp 1600000.00</td>\n",
       "      <td id=\"T_2af8c_row0_col2\" class=\"data row0 col2\" >Rp 90000.00</td>\n",
       "    </tr>\n",
       "    <tr>\n",
       "      <th id=\"T_2af8c_level0_row1\" class=\"row_heading level0 row1\" >1</th>\n",
       "      <td id=\"T_2af8c_row1_col0\" class=\"data row1 col0\" >02/01/00</td>\n",
       "      <td id=\"T_2af8c_row1_col1\" class=\"data row1 col1\" >Rp 200000.00</td>\n",
       "      <td id=\"T_2af8c_row1_col2\" class=\"data row1 col2\" >Rp 130000.00</td>\n",
       "    </tr>\n",
       "    <tr>\n",
       "      <th id=\"T_2af8c_level0_row2\" class=\"row_heading level0 row2\" >2</th>\n",
       "      <td id=\"T_2af8c_row2_col0\" class=\"data row2 col0\" >03/01/00</td>\n",
       "      <td id=\"T_2af8c_row2_col1\" class=\"data row2 col1\" >Rp 1700000.00</td>\n",
       "      <td id=\"T_2af8c_row2_col2\" class=\"data row2 col2\" >Rp 150000.00</td>\n",
       "    </tr>\n",
       "    <tr>\n",
       "      <th id=\"T_2af8c_level0_row3\" class=\"row_heading level0 row3\" >3</th>\n",
       "      <td id=\"T_2af8c_row3_col0\" class=\"data row3 col0\" >04/01/00</td>\n",
       "      <td id=\"T_2af8c_row3_col1\" class=\"data row3 col1\" >Rp 600000.00</td>\n",
       "      <td id=\"T_2af8c_row3_col2\" class=\"data row3 col2\" >Rp 90000.00</td>\n",
       "    </tr>\n",
       "    <tr>\n",
       "      <th id=\"T_2af8c_level0_row4\" class=\"row_heading level0 row4\" >4</th>\n",
       "      <td id=\"T_2af8c_row4_col0\" class=\"data row4 col0\" >05/01/00</td>\n",
       "      <td id=\"T_2af8c_row4_col1\" class=\"data row4 col1\" >Rp 1400000.00</td>\n",
       "      <td id=\"T_2af8c_row4_col2\" class=\"data row4 col2\" >Rp 80000.00</td>\n",
       "    </tr>\n",
       "  </tbody>\n",
       "</table>\n"
      ],
      "text/plain": [
       "<pandas.io.formats.style.Styler at 0x29c02a3fac0>"
      ]
     },
     "execution_count": 22,
     "metadata": {},
     "output_type": "execute_result"
    }
   ],
   "source": [
    "formatku = {'tanggal':'{:%d/%m/%y}',\n",
    "           'operasional':'Rp {:.2f}',\n",
    "           'omset':'Rp {:.2f}'} #dictionary\n",
    "\n",
    "#value dari setiap key berisi formatting terhadap datanya\n",
    "#%d/%m/%y merepresentasikan day, month dan year\n",
    "#{:.2f} menyertakan dua digit ekstra di belakang koma\n",
    "\n",
    "laporan = df.style.format(formatku)\n",
    "laporan"
   ]
  },
  {
   "cell_type": "code",
   "execution_count": 23,
   "id": "189ce9d8",
   "metadata": {},
   "outputs": [
    {
     "data": {
      "text/plain": [
       "pandas.io.formats.style.Styler"
      ]
     },
     "execution_count": 23,
     "metadata": {},
     "output_type": "execute_result"
    }
   ],
   "source": [
    "type(laporan)"
   ]
  },
  {
   "cell_type": "code",
   "execution_count": 24,
   "id": "9abffb0b",
   "metadata": {},
   "outputs": [
    {
     "data": {
      "text/html": [
       "<style type=\"text/css\">\n",
       "</style>\n",
       "<table id=\"T_2af8c_\">\n",
       "  <thead>\n",
       "    <tr>\n",
       "      <th class=\"col_heading level0 col0\" >tanggal</th>\n",
       "      <th class=\"col_heading level0 col1\" >omset</th>\n",
       "      <th class=\"col_heading level0 col2\" >operasional</th>\n",
       "    </tr>\n",
       "  </thead>\n",
       "  <tbody>\n",
       "    <tr>\n",
       "      <td id=\"T_2af8c_row0_col0\" class=\"data row0 col0\" >01/01/00</td>\n",
       "      <td id=\"T_2af8c_row0_col1\" class=\"data row0 col1\" >Rp 1600000.00</td>\n",
       "      <td id=\"T_2af8c_row0_col2\" class=\"data row0 col2\" >Rp 90000.00</td>\n",
       "    </tr>\n",
       "    <tr>\n",
       "      <td id=\"T_2af8c_row1_col0\" class=\"data row1 col0\" >02/01/00</td>\n",
       "      <td id=\"T_2af8c_row1_col1\" class=\"data row1 col1\" >Rp 200000.00</td>\n",
       "      <td id=\"T_2af8c_row1_col2\" class=\"data row1 col2\" >Rp 130000.00</td>\n",
       "    </tr>\n",
       "    <tr>\n",
       "      <td id=\"T_2af8c_row2_col0\" class=\"data row2 col0\" >03/01/00</td>\n",
       "      <td id=\"T_2af8c_row2_col1\" class=\"data row2 col1\" >Rp 1700000.00</td>\n",
       "      <td id=\"T_2af8c_row2_col2\" class=\"data row2 col2\" >Rp 150000.00</td>\n",
       "    </tr>\n",
       "    <tr>\n",
       "      <td id=\"T_2af8c_row3_col0\" class=\"data row3 col0\" >04/01/00</td>\n",
       "      <td id=\"T_2af8c_row3_col1\" class=\"data row3 col1\" >Rp 600000.00</td>\n",
       "      <td id=\"T_2af8c_row3_col2\" class=\"data row3 col2\" >Rp 90000.00</td>\n",
       "    </tr>\n",
       "    <tr>\n",
       "      <td id=\"T_2af8c_row4_col0\" class=\"data row4 col0\" >05/01/00</td>\n",
       "      <td id=\"T_2af8c_row4_col1\" class=\"data row4 col1\" >Rp 1400000.00</td>\n",
       "      <td id=\"T_2af8c_row4_col2\" class=\"data row4 col2\" >Rp 80000.00</td>\n",
       "    </tr>\n",
       "  </tbody>\n",
       "</table>\n"
      ],
      "text/plain": [
       "<pandas.io.formats.style.Styler at 0x29c02a3fac0>"
      ]
     },
     "execution_count": 24,
     "metadata": {},
     "output_type": "execute_result"
    }
   ],
   "source": [
    "laporan.hide_index() #tidak menyertakan index"
   ]
  },
  {
   "cell_type": "code",
   "execution_count": 25,
   "id": "d98c6633",
   "metadata": {},
   "outputs": [
    {
     "data": {
      "text/html": [
       "<style type=\"text/css\">\n",
       "</style>\n",
       "<table id=\"T_2af8c_\">\n",
       "  <caption>Data Omset dan Operasional</caption>\n",
       "  <thead>\n",
       "    <tr>\n",
       "      <th class=\"col_heading level0 col0\" >tanggal</th>\n",
       "      <th class=\"col_heading level0 col1\" >omset</th>\n",
       "      <th class=\"col_heading level0 col2\" >operasional</th>\n",
       "    </tr>\n",
       "  </thead>\n",
       "  <tbody>\n",
       "    <tr>\n",
       "      <td id=\"T_2af8c_row0_col0\" class=\"data row0 col0\" >01/01/00</td>\n",
       "      <td id=\"T_2af8c_row0_col1\" class=\"data row0 col1\" >Rp 1600000.00</td>\n",
       "      <td id=\"T_2af8c_row0_col2\" class=\"data row0 col2\" >Rp 90000.00</td>\n",
       "    </tr>\n",
       "    <tr>\n",
       "      <td id=\"T_2af8c_row1_col0\" class=\"data row1 col0\" >02/01/00</td>\n",
       "      <td id=\"T_2af8c_row1_col1\" class=\"data row1 col1\" >Rp 200000.00</td>\n",
       "      <td id=\"T_2af8c_row1_col2\" class=\"data row1 col2\" >Rp 130000.00</td>\n",
       "    </tr>\n",
       "    <tr>\n",
       "      <td id=\"T_2af8c_row2_col0\" class=\"data row2 col0\" >03/01/00</td>\n",
       "      <td id=\"T_2af8c_row2_col1\" class=\"data row2 col1\" >Rp 1700000.00</td>\n",
       "      <td id=\"T_2af8c_row2_col2\" class=\"data row2 col2\" >Rp 150000.00</td>\n",
       "    </tr>\n",
       "    <tr>\n",
       "      <td id=\"T_2af8c_row3_col0\" class=\"data row3 col0\" >04/01/00</td>\n",
       "      <td id=\"T_2af8c_row3_col1\" class=\"data row3 col1\" >Rp 600000.00</td>\n",
       "      <td id=\"T_2af8c_row3_col2\" class=\"data row3 col2\" >Rp 90000.00</td>\n",
       "    </tr>\n",
       "    <tr>\n",
       "      <td id=\"T_2af8c_row4_col0\" class=\"data row4 col0\" >05/01/00</td>\n",
       "      <td id=\"T_2af8c_row4_col1\" class=\"data row4 col1\" >Rp 1400000.00</td>\n",
       "      <td id=\"T_2af8c_row4_col2\" class=\"data row4 col2\" >Rp 80000.00</td>\n",
       "    </tr>\n",
       "  </tbody>\n",
       "</table>\n"
      ],
      "text/plain": [
       "<pandas.io.formats.style.Styler at 0x29c02a3fac0>"
      ]
     },
     "execution_count": 25,
     "metadata": {},
     "output_type": "execute_result"
    }
   ],
   "source": [
    "laporan.set_caption('Data Omset dan Operasional')\n",
    "#menyertakan judul dari frame"
   ]
  },
  {
   "cell_type": "code",
   "execution_count": 26,
   "id": "514b981a",
   "metadata": {},
   "outputs": [
    {
     "data": {
      "text/html": [
       "<style type=\"text/css\">\n",
       "#T_2af8c_row1_col1 {\n",
       "  background-color: pink;\n",
       "}\n",
       "#T_2af8c_row2_col1 {\n",
       "  background-color: lightgreen;\n",
       "}\n",
       "#T_2af8c_row2_col2 {\n",
       "  background-color: grey;\n",
       "}\n",
       "#T_2af8c_row4_col2 {\n",
       "  background-color: lightblue;\n",
       "}\n",
       "</style>\n",
       "<table id=\"T_2af8c_\">\n",
       "  <caption>Data Omset dan Operasional</caption>\n",
       "  <thead>\n",
       "    <tr>\n",
       "      <th class=\"col_heading level0 col0\" >tanggal</th>\n",
       "      <th class=\"col_heading level0 col1\" >omset</th>\n",
       "      <th class=\"col_heading level0 col2\" >operasional</th>\n",
       "    </tr>\n",
       "  </thead>\n",
       "  <tbody>\n",
       "    <tr>\n",
       "      <td id=\"T_2af8c_row0_col0\" class=\"data row0 col0\" >01/01/00</td>\n",
       "      <td id=\"T_2af8c_row0_col1\" class=\"data row0 col1\" >Rp 1600000.00</td>\n",
       "      <td id=\"T_2af8c_row0_col2\" class=\"data row0 col2\" >Rp 90000.00</td>\n",
       "    </tr>\n",
       "    <tr>\n",
       "      <td id=\"T_2af8c_row1_col0\" class=\"data row1 col0\" >02/01/00</td>\n",
       "      <td id=\"T_2af8c_row1_col1\" class=\"data row1 col1\" >Rp 200000.00</td>\n",
       "      <td id=\"T_2af8c_row1_col2\" class=\"data row1 col2\" >Rp 130000.00</td>\n",
       "    </tr>\n",
       "    <tr>\n",
       "      <td id=\"T_2af8c_row2_col0\" class=\"data row2 col0\" >03/01/00</td>\n",
       "      <td id=\"T_2af8c_row2_col1\" class=\"data row2 col1\" >Rp 1700000.00</td>\n",
       "      <td id=\"T_2af8c_row2_col2\" class=\"data row2 col2\" >Rp 150000.00</td>\n",
       "    </tr>\n",
       "    <tr>\n",
       "      <td id=\"T_2af8c_row3_col0\" class=\"data row3 col0\" >04/01/00</td>\n",
       "      <td id=\"T_2af8c_row3_col1\" class=\"data row3 col1\" >Rp 600000.00</td>\n",
       "      <td id=\"T_2af8c_row3_col2\" class=\"data row3 col2\" >Rp 90000.00</td>\n",
       "    </tr>\n",
       "    <tr>\n",
       "      <td id=\"T_2af8c_row4_col0\" class=\"data row4 col0\" >05/01/00</td>\n",
       "      <td id=\"T_2af8c_row4_col1\" class=\"data row4 col1\" >Rp 1400000.00</td>\n",
       "      <td id=\"T_2af8c_row4_col2\" class=\"data row4 col2\" >Rp 80000.00</td>\n",
       "    </tr>\n",
       "  </tbody>\n",
       "</table>\n"
      ],
      "text/plain": [
       "<pandas.io.formats.style.Styler at 0x29c02a3fac0>"
      ]
     },
     "execution_count": 26,
     "metadata": {},
     "output_type": "execute_result"
    }
   ],
   "source": [
    "laporan.highlight_min('omset', color='pink')\n",
    "laporan.highlight_max('omset', color='lightgreen')\n",
    "\n",
    "laporan.highlight_min('operasional', color='lightblue')\n",
    "laporan.highlight_max('operasional', color='grey')\n",
    "\n",
    "#highlight nilai minimum atau maximum di suatu kolom"
   ]
  }
 ],
 "metadata": {
  "kernelspec": {
   "display_name": "Python 3 (ipykernel)",
   "language": "python",
   "name": "python3"
  },
  "language_info": {
   "codemirror_mode": {
    "name": "ipython",
    "version": 3
   },
   "file_extension": ".py",
   "mimetype": "text/x-python",
   "name": "python",
   "nbconvert_exporter": "python",
   "pygments_lexer": "ipython3",
   "version": "3.9.7"
  }
 },
 "nbformat": 4,
 "nbformat_minor": 5
}
