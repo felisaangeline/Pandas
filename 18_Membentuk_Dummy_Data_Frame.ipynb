{
 "cells": [
  {
   "cell_type": "markdown",
   "id": "f198e3d9",
   "metadata": {},
   "source": [
    "# Membentuk dummy Data Frame"
   ]
  },
  {
   "cell_type": "markdown",
   "id": "1b512107",
   "metadata": {},
   "source": [
    "### Import Modul dan Cek Versi"
   ]
  },
  {
   "cell_type": "code",
   "execution_count": 1,
   "id": "74fe01e4",
   "metadata": {},
   "outputs": [
    {
     "name": "stdout",
     "output_type": "stream",
     "text": [
      "1.3.4\n",
      "1.20.3\n"
     ]
    }
   ],
   "source": [
    "import pandas as pd\n",
    "import numpy as np\n",
    "\n",
    "print(pd.__version__)\n",
    "print(np.__version__)"
   ]
  },
  {
   "cell_type": "markdown",
   "id": "a4562f96",
   "metadata": {},
   "source": [
    "# Membentuk data frame dari dictionary"
   ]
  },
  {
   "cell_type": "code",
   "execution_count": 2,
   "id": "150b9eac",
   "metadata": {},
   "outputs": [
    {
     "data": {
      "text/html": [
       "<div>\n",
       "<style scoped>\n",
       "    .dataframe tbody tr th:only-of-type {\n",
       "        vertical-align: middle;\n",
       "    }\n",
       "\n",
       "    .dataframe tbody tr th {\n",
       "        vertical-align: top;\n",
       "    }\n",
       "\n",
       "    .dataframe thead th {\n",
       "        text-align: right;\n",
       "    }\n",
       "</style>\n",
       "<table border=\"1\" class=\"dataframe\">\n",
       "  <thead>\n",
       "    <tr style=\"text-align: right;\">\n",
       "      <th></th>\n",
       "      <th>col1</th>\n",
       "      <th>col2</th>\n",
       "    </tr>\n",
       "  </thead>\n",
       "  <tbody>\n",
       "    <tr>\n",
       "      <th>0</th>\n",
       "      <td>1</td>\n",
       "      <td>5</td>\n",
       "    </tr>\n",
       "    <tr>\n",
       "      <th>1</th>\n",
       "      <td>2</td>\n",
       "      <td>6</td>\n",
       "    </tr>\n",
       "    <tr>\n",
       "      <th>2</th>\n",
       "      <td>3</td>\n",
       "      <td>7</td>\n",
       "    </tr>\n",
       "    <tr>\n",
       "      <th>3</th>\n",
       "      <td>4</td>\n",
       "      <td>8</td>\n",
       "    </tr>\n",
       "  </tbody>\n",
       "</table>\n",
       "</div>"
      ],
      "text/plain": [
       "   col1  col2\n",
       "0     1     5\n",
       "1     2     6\n",
       "2     3     7\n",
       "3     4     8"
      ]
     },
     "execution_count": 2,
     "metadata": {},
     "output_type": "execute_result"
    }
   ],
   "source": [
    "pd.DataFrame({'col1':[1, 2, 3, 4],\n",
    "             'col2':[5, 6, 7, 8]})\n",
    "\n",
    "#dalam dicitionary memiliki key dan value\n",
    "#key akan membentuk tabel kolom\n",
    "#value akan berisi data untuk kolom tersebut"
   ]
  },
  {
   "cell_type": "markdown",
   "id": "6d42a3d7",
   "metadata": {},
   "source": [
    "# Membentuk data frame dari numpy array"
   ]
  },
  {
   "cell_type": "code",
   "execution_count": 3,
   "id": "a8cf0682",
   "metadata": {},
   "outputs": [
    {
     "data": {
      "text/plain": [
       "array([[17,  9,  8],\n",
       "       [14, 19,  9],\n",
       "       [ 9, 12, 16],\n",
       "       [ 4,  5, 17],\n",
       "       [ 3, 18, 14]])"
      ]
     },
     "execution_count": 3,
     "metadata": {},
     "output_type": "execute_result"
    }
   ],
   "source": [
    "n_rows = 5\n",
    "n_cols = 3\n",
    "\n",
    "arr = np.random.randint(1, 20, size=(n_rows, n_cols))\n",
    "arr"
   ]
  },
  {
   "cell_type": "code",
   "execution_count": 4,
   "id": "ed5ad3ba",
   "metadata": {},
   "outputs": [
    {
     "data": {
      "text/html": [
       "<div>\n",
       "<style scoped>\n",
       "    .dataframe tbody tr th:only-of-type {\n",
       "        vertical-align: middle;\n",
       "    }\n",
       "\n",
       "    .dataframe tbody tr th {\n",
       "        vertical-align: top;\n",
       "    }\n",
       "\n",
       "    .dataframe thead th {\n",
       "        text-align: right;\n",
       "    }\n",
       "</style>\n",
       "<table border=\"1\" class=\"dataframe\">\n",
       "  <thead>\n",
       "    <tr style=\"text-align: right;\">\n",
       "      <th></th>\n",
       "      <th>A</th>\n",
       "      <th>B</th>\n",
       "      <th>C</th>\n",
       "    </tr>\n",
       "  </thead>\n",
       "  <tbody>\n",
       "    <tr>\n",
       "      <th>0</th>\n",
       "      <td>17</td>\n",
       "      <td>9</td>\n",
       "      <td>8</td>\n",
       "    </tr>\n",
       "    <tr>\n",
       "      <th>1</th>\n",
       "      <td>14</td>\n",
       "      <td>19</td>\n",
       "      <td>9</td>\n",
       "    </tr>\n",
       "    <tr>\n",
       "      <th>2</th>\n",
       "      <td>9</td>\n",
       "      <td>12</td>\n",
       "      <td>16</td>\n",
       "    </tr>\n",
       "    <tr>\n",
       "      <th>3</th>\n",
       "      <td>4</td>\n",
       "      <td>5</td>\n",
       "      <td>17</td>\n",
       "    </tr>\n",
       "    <tr>\n",
       "      <th>4</th>\n",
       "      <td>3</td>\n",
       "      <td>18</td>\n",
       "      <td>14</td>\n",
       "    </tr>\n",
       "  </tbody>\n",
       "</table>\n",
       "</div>"
      ],
      "text/plain": [
       "    A   B   C\n",
       "0  17   9   8\n",
       "1  14  19   9\n",
       "2   9  12  16\n",
       "3   4   5  17\n",
       "4   3  18  14"
      ]
     },
     "execution_count": 4,
     "metadata": {},
     "output_type": "execute_result"
    }
   ],
   "source": [
    "pd.DataFrame(arr, columns=tuple('ABC'))"
   ]
  },
  {
   "cell_type": "markdown",
   "id": "f72de920",
   "metadata": {},
   "source": [
    "# Membentuk data frame dengan memanfaatkan pandas.util.testing"
   ]
  },
  {
   "cell_type": "code",
   "execution_count": 6,
   "id": "16e050df",
   "metadata": {},
   "outputs": [
    {
     "data": {
      "text/html": [
       "<div>\n",
       "<style scoped>\n",
       "    .dataframe tbody tr th:only-of-type {\n",
       "        vertical-align: middle;\n",
       "    }\n",
       "\n",
       "    .dataframe tbody tr th {\n",
       "        vertical-align: top;\n",
       "    }\n",
       "\n",
       "    .dataframe thead th {\n",
       "        text-align: right;\n",
       "    }\n",
       "</style>\n",
       "<table border=\"1\" class=\"dataframe\">\n",
       "  <thead>\n",
       "    <tr style=\"text-align: right;\">\n",
       "      <th></th>\n",
       "      <th>A</th>\n",
       "      <th>B</th>\n",
       "      <th>C</th>\n",
       "      <th>D</th>\n",
       "    </tr>\n",
       "  </thead>\n",
       "  <tbody>\n",
       "    <tr>\n",
       "      <th>ZEKu3xOrTw</th>\n",
       "      <td>0.676377</td>\n",
       "      <td>-0.522842</td>\n",
       "      <td>-0.911926</td>\n",
       "      <td>-0.370851</td>\n",
       "    </tr>\n",
       "    <tr>\n",
       "      <th>tO7hZ47vZC</th>\n",
       "      <td>1.572339</td>\n",
       "      <td>1.146801</td>\n",
       "      <td>-0.846814</td>\n",
       "      <td>-0.737271</td>\n",
       "    </tr>\n",
       "    <tr>\n",
       "      <th>beUJjlkIjV</th>\n",
       "      <td>0.227945</td>\n",
       "      <td>-0.191131</td>\n",
       "      <td>0.093634</td>\n",
       "      <td>0.302388</td>\n",
       "    </tr>\n",
       "    <tr>\n",
       "      <th>O0rSFc7Fo5</th>\n",
       "      <td>0.435075</td>\n",
       "      <td>-1.876932</td>\n",
       "      <td>-0.216015</td>\n",
       "      <td>0.735270</td>\n",
       "    </tr>\n",
       "    <tr>\n",
       "      <th>feDulY4BQA</th>\n",
       "      <td>0.509444</td>\n",
       "      <td>-1.123873</td>\n",
       "      <td>-1.284268</td>\n",
       "      <td>-0.932415</td>\n",
       "    </tr>\n",
       "  </tbody>\n",
       "</table>\n",
       "</div>"
      ],
      "text/plain": [
       "                   A         B         C         D\n",
       "ZEKu3xOrTw  0.676377 -0.522842 -0.911926 -0.370851\n",
       "tO7hZ47vZC  1.572339  1.146801 -0.846814 -0.737271\n",
       "beUJjlkIjV  0.227945 -0.191131  0.093634  0.302388\n",
       "O0rSFc7Fo5  0.435075 -1.876932 -0.216015  0.735270\n",
       "feDulY4BQA  0.509444 -1.123873 -1.284268 -0.932415"
      ]
     },
     "execution_count": 6,
     "metadata": {},
     "output_type": "execute_result"
    }
   ],
   "source": [
    "pd.util.testing.makeDataFrame().head()"
   ]
  },
  {
   "cell_type": "code",
   "execution_count": 7,
   "id": "1c987208",
   "metadata": {},
   "outputs": [
    {
     "data": {
      "text/html": [
       "<div>\n",
       "<style scoped>\n",
       "    .dataframe tbody tr th:only-of-type {\n",
       "        vertical-align: middle;\n",
       "    }\n",
       "\n",
       "    .dataframe tbody tr th {\n",
       "        vertical-align: top;\n",
       "    }\n",
       "\n",
       "    .dataframe thead th {\n",
       "        text-align: right;\n",
       "    }\n",
       "</style>\n",
       "<table border=\"1\" class=\"dataframe\">\n",
       "  <thead>\n",
       "    <tr style=\"text-align: right;\">\n",
       "      <th></th>\n",
       "      <th>A</th>\n",
       "      <th>B</th>\n",
       "      <th>C</th>\n",
       "      <th>D</th>\n",
       "    </tr>\n",
       "  </thead>\n",
       "  <tbody>\n",
       "    <tr>\n",
       "      <th>0</th>\n",
       "      <td>0.0</td>\n",
       "      <td>0.0</td>\n",
       "      <td>foo1</td>\n",
       "      <td>2009-01-01</td>\n",
       "    </tr>\n",
       "    <tr>\n",
       "      <th>1</th>\n",
       "      <td>1.0</td>\n",
       "      <td>1.0</td>\n",
       "      <td>foo2</td>\n",
       "      <td>2009-01-02</td>\n",
       "    </tr>\n",
       "    <tr>\n",
       "      <th>2</th>\n",
       "      <td>2.0</td>\n",
       "      <td>0.0</td>\n",
       "      <td>foo3</td>\n",
       "      <td>2009-01-05</td>\n",
       "    </tr>\n",
       "    <tr>\n",
       "      <th>3</th>\n",
       "      <td>3.0</td>\n",
       "      <td>1.0</td>\n",
       "      <td>foo4</td>\n",
       "      <td>2009-01-06</td>\n",
       "    </tr>\n",
       "    <tr>\n",
       "      <th>4</th>\n",
       "      <td>4.0</td>\n",
       "      <td>0.0</td>\n",
       "      <td>foo5</td>\n",
       "      <td>2009-01-07</td>\n",
       "    </tr>\n",
       "  </tbody>\n",
       "</table>\n",
       "</div>"
      ],
      "text/plain": [
       "     A    B     C          D\n",
       "0  0.0  0.0  foo1 2009-01-01\n",
       "1  1.0  1.0  foo2 2009-01-02\n",
       "2  2.0  0.0  foo3 2009-01-05\n",
       "3  3.0  1.0  foo4 2009-01-06\n",
       "4  4.0  0.0  foo5 2009-01-07"
      ]
     },
     "execution_count": 7,
     "metadata": {},
     "output_type": "execute_result"
    }
   ],
   "source": [
    "pd.util.testing.makeMixedDataFrame().head()"
   ]
  },
  {
   "cell_type": "code",
   "execution_count": 8,
   "id": "9d7018d7",
   "metadata": {},
   "outputs": [
    {
     "data": {
      "text/html": [
       "<div>\n",
       "<style scoped>\n",
       "    .dataframe tbody tr th:only-of-type {\n",
       "        vertical-align: middle;\n",
       "    }\n",
       "\n",
       "    .dataframe tbody tr th {\n",
       "        vertical-align: top;\n",
       "    }\n",
       "\n",
       "    .dataframe thead th {\n",
       "        text-align: right;\n",
       "    }\n",
       "</style>\n",
       "<table border=\"1\" class=\"dataframe\">\n",
       "  <thead>\n",
       "    <tr style=\"text-align: right;\">\n",
       "      <th></th>\n",
       "      <th>A</th>\n",
       "      <th>B</th>\n",
       "      <th>C</th>\n",
       "      <th>D</th>\n",
       "    </tr>\n",
       "  </thead>\n",
       "  <tbody>\n",
       "    <tr>\n",
       "      <th>2000-01-03</th>\n",
       "      <td>-0.312839</td>\n",
       "      <td>-0.352166</td>\n",
       "      <td>1.145164</td>\n",
       "      <td>-1.390870</td>\n",
       "    </tr>\n",
       "    <tr>\n",
       "      <th>2000-01-04</th>\n",
       "      <td>1.471812</td>\n",
       "      <td>0.009842</td>\n",
       "      <td>-0.942945</td>\n",
       "      <td>-0.245282</td>\n",
       "    </tr>\n",
       "    <tr>\n",
       "      <th>2000-01-05</th>\n",
       "      <td>-1.018575</td>\n",
       "      <td>-1.138777</td>\n",
       "      <td>-0.702363</td>\n",
       "      <td>-1.372721</td>\n",
       "    </tr>\n",
       "    <tr>\n",
       "      <th>2000-01-06</th>\n",
       "      <td>0.024871</td>\n",
       "      <td>2.021737</td>\n",
       "      <td>-0.273455</td>\n",
       "      <td>-0.402419</td>\n",
       "    </tr>\n",
       "    <tr>\n",
       "      <th>2000-01-07</th>\n",
       "      <td>0.109586</td>\n",
       "      <td>-0.316366</td>\n",
       "      <td>0.392441</td>\n",
       "      <td>0.830068</td>\n",
       "    </tr>\n",
       "  </tbody>\n",
       "</table>\n",
       "</div>"
      ],
      "text/plain": [
       "                   A         B         C         D\n",
       "2000-01-03 -0.312839 -0.352166  1.145164 -1.390870\n",
       "2000-01-04  1.471812  0.009842 -0.942945 -0.245282\n",
       "2000-01-05 -1.018575 -1.138777 -0.702363 -1.372721\n",
       "2000-01-06  0.024871  2.021737 -0.273455 -0.402419\n",
       "2000-01-07  0.109586 -0.316366  0.392441  0.830068"
      ]
     },
     "execution_count": 8,
     "metadata": {},
     "output_type": "execute_result"
    }
   ],
   "source": [
    "pd.util.testing.makeTimeDataFrame().head()"
   ]
  },
  {
   "cell_type": "code",
   "execution_count": 9,
   "id": "442916f7",
   "metadata": {},
   "outputs": [
    {
     "data": {
      "text/html": [
       "<div>\n",
       "<style scoped>\n",
       "    .dataframe tbody tr th:only-of-type {\n",
       "        vertical-align: middle;\n",
       "    }\n",
       "\n",
       "    .dataframe tbody tr th {\n",
       "        vertical-align: top;\n",
       "    }\n",
       "\n",
       "    .dataframe thead th {\n",
       "        text-align: right;\n",
       "    }\n",
       "</style>\n",
       "<table border=\"1\" class=\"dataframe\">\n",
       "  <thead>\n",
       "    <tr style=\"text-align: right;\">\n",
       "      <th></th>\n",
       "      <th>A</th>\n",
       "      <th>B</th>\n",
       "      <th>C</th>\n",
       "      <th>D</th>\n",
       "    </tr>\n",
       "  </thead>\n",
       "  <tbody>\n",
       "    <tr>\n",
       "      <th>2AP4mAHJeV</th>\n",
       "      <td>0.588878</td>\n",
       "      <td>0.483387</td>\n",
       "      <td>0.169013</td>\n",
       "      <td>0.818207</td>\n",
       "    </tr>\n",
       "    <tr>\n",
       "      <th>NVXYFkGszz</th>\n",
       "      <td>0.474619</td>\n",
       "      <td>-1.446527</td>\n",
       "      <td>-0.109917</td>\n",
       "      <td>0.099443</td>\n",
       "    </tr>\n",
       "    <tr>\n",
       "      <th>gUagq7g5ub</th>\n",
       "      <td>-0.066375</td>\n",
       "      <td>0.586657</td>\n",
       "      <td>0.055052</td>\n",
       "      <td>-0.414229</td>\n",
       "    </tr>\n",
       "    <tr>\n",
       "      <th>nqDqFStMZf</th>\n",
       "      <td>-0.581879</td>\n",
       "      <td>-1.555575</td>\n",
       "      <td>1.034614</td>\n",
       "      <td>0.769886</td>\n",
       "    </tr>\n",
       "    <tr>\n",
       "      <th>e6iHyDYKrK</th>\n",
       "      <td>-0.245190</td>\n",
       "      <td>-2.407798</td>\n",
       "      <td>0.196389</td>\n",
       "      <td>-0.925622</td>\n",
       "    </tr>\n",
       "  </tbody>\n",
       "</table>\n",
       "</div>"
      ],
      "text/plain": [
       "                   A         B         C         D\n",
       "2AP4mAHJeV  0.588878  0.483387  0.169013  0.818207\n",
       "NVXYFkGszz  0.474619 -1.446527 -0.109917  0.099443\n",
       "gUagq7g5ub -0.066375  0.586657  0.055052 -0.414229\n",
       "nqDqFStMZf -0.581879 -1.555575  1.034614  0.769886\n",
       "e6iHyDYKrK -0.245190 -2.407798  0.196389 -0.925622"
      ]
     },
     "execution_count": 9,
     "metadata": {},
     "output_type": "execute_result"
    }
   ],
   "source": [
    "pd.util.testing.makeMissingDataframe().head()"
   ]
  }
 ],
 "metadata": {
  "kernelspec": {
   "display_name": "Python 3 (ipykernel)",
   "language": "python",
   "name": "python3"
  },
  "language_info": {
   "codemirror_mode": {
    "name": "ipython",
    "version": 3
   },
   "file_extension": ".py",
   "mimetype": "text/x-python",
   "name": "python",
   "nbconvert_exporter": "python",
   "pygments_lexer": "ipython3",
   "version": "3.9.7"
  }
 },
 "nbformat": 4,
 "nbformat_minor": 5
}
