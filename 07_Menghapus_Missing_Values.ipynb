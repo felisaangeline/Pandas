{
 "cells": [
  {
   "cell_type": "markdown",
   "id": "b3fbc74c",
   "metadata": {},
   "source": [
    "# Menghapus (drop) missing values (NaN)"
   ]
  },
  {
   "cell_type": "markdown",
   "id": "c2b68fcc",
   "metadata": {},
   "source": [
    "### Import Modul dan Cek Versi"
   ]
  },
  {
   "cell_type": "code",
   "execution_count": 16,
   "id": "09b1bd19",
   "metadata": {},
   "outputs": [
    {
     "name": "stdout",
     "output_type": "stream",
     "text": [
      "1.3.4\n"
     ]
    }
   ],
   "source": [
    "import pandas as pd\n",
    "\n",
    "print(pd.__version__)"
   ]
  },
  {
   "cell_type": "markdown",
   "id": "89812f69",
   "metadata": {},
   "source": [
    "### Persiapan data frame"
   ]
  },
  {
   "cell_type": "code",
   "execution_count": 5,
   "id": "34a5082a",
   "metadata": {},
   "outputs": [
    {
     "data": {
      "text/html": [
       "<div>\n",
       "<style scoped>\n",
       "    .dataframe tbody tr th:only-of-type {\n",
       "        vertical-align: middle;\n",
       "    }\n",
       "\n",
       "    .dataframe tbody tr th {\n",
       "        vertical-align: top;\n",
       "    }\n",
       "\n",
       "    .dataframe thead th {\n",
       "        text-align: right;\n",
       "    }\n",
       "</style>\n",
       "<table border=\"1\" class=\"dataframe\">\n",
       "  <thead>\n",
       "    <tr style=\"text-align: right;\">\n",
       "      <th></th>\n",
       "      <th>index</th>\n",
       "      <th>A</th>\n",
       "      <th>B</th>\n",
       "      <th>C</th>\n",
       "      <th>D</th>\n",
       "    </tr>\n",
       "  </thead>\n",
       "  <tbody>\n",
       "    <tr>\n",
       "      <th>0</th>\n",
       "      <td>4Lhj84vnok</td>\n",
       "      <td>1.496130</td>\n",
       "      <td>-1.578714</td>\n",
       "      <td>0.106576</td>\n",
       "      <td>-0.224222</td>\n",
       "    </tr>\n",
       "    <tr>\n",
       "      <th>1</th>\n",
       "      <td>Bo3U175t56</td>\n",
       "      <td>-0.426451</td>\n",
       "      <td>-2.037751</td>\n",
       "      <td>0.113148</td>\n",
       "      <td>0.171161</td>\n",
       "    </tr>\n",
       "    <tr>\n",
       "      <th>2</th>\n",
       "      <td>kNCAeF3dNF</td>\n",
       "      <td>0.577271</td>\n",
       "      <td>NaN</td>\n",
       "      <td>-0.582416</td>\n",
       "      <td>1.554048</td>\n",
       "    </tr>\n",
       "    <tr>\n",
       "      <th>3</th>\n",
       "      <td>K12qauF5dl</td>\n",
       "      <td>NaN</td>\n",
       "      <td>-0.328478</td>\n",
       "      <td>-0.752027</td>\n",
       "      <td>0.205167</td>\n",
       "    </tr>\n",
       "    <tr>\n",
       "      <th>4</th>\n",
       "      <td>OY4I1Q87Oz</td>\n",
       "      <td>1.949835</td>\n",
       "      <td>1.496792</td>\n",
       "      <td>-1.128963</td>\n",
       "      <td>0.188560</td>\n",
       "    </tr>\n",
       "  </tbody>\n",
       "</table>\n",
       "</div>"
      ],
      "text/plain": [
       "        index         A         B         C         D\n",
       "0  4Lhj84vnok  1.496130 -1.578714  0.106576 -0.224222\n",
       "1  Bo3U175t56 -0.426451 -2.037751  0.113148  0.171161\n",
       "2  kNCAeF3dNF  0.577271       NaN -0.582416  1.554048\n",
       "3  K12qauF5dl       NaN -0.328478 -0.752027  0.205167\n",
       "4  OY4I1Q87Oz  1.949835  1.496792 -1.128963  0.188560"
      ]
     },
     "execution_count": 5,
     "metadata": {},
     "output_type": "execute_result"
    }
   ],
   "source": [
    "df = pd.util.testing.makeMissingDataframe().reset_index()\n",
    "df.head()"
   ]
  },
  {
   "cell_type": "code",
   "execution_count": 6,
   "id": "bf54882d",
   "metadata": {},
   "outputs": [
    {
     "data": {
      "text/html": [
       "<div>\n",
       "<style scoped>\n",
       "    .dataframe tbody tr th:only-of-type {\n",
       "        vertical-align: middle;\n",
       "    }\n",
       "\n",
       "    .dataframe tbody tr th {\n",
       "        vertical-align: top;\n",
       "    }\n",
       "\n",
       "    .dataframe thead th {\n",
       "        text-align: right;\n",
       "    }\n",
       "</style>\n",
       "<table border=\"1\" class=\"dataframe\">\n",
       "  <thead>\n",
       "    <tr style=\"text-align: right;\">\n",
       "      <th></th>\n",
       "      <th>Z</th>\n",
       "      <th>A</th>\n",
       "      <th>B</th>\n",
       "      <th>C</th>\n",
       "      <th>D</th>\n",
       "    </tr>\n",
       "  </thead>\n",
       "  <tbody>\n",
       "    <tr>\n",
       "      <th>0</th>\n",
       "      <td>4Lhj84vnok</td>\n",
       "      <td>1.496130</td>\n",
       "      <td>-1.578714</td>\n",
       "      <td>0.106576</td>\n",
       "      <td>-0.224222</td>\n",
       "    </tr>\n",
       "    <tr>\n",
       "      <th>1</th>\n",
       "      <td>Bo3U175t56</td>\n",
       "      <td>-0.426451</td>\n",
       "      <td>-2.037751</td>\n",
       "      <td>0.113148</td>\n",
       "      <td>0.171161</td>\n",
       "    </tr>\n",
       "    <tr>\n",
       "      <th>2</th>\n",
       "      <td>kNCAeF3dNF</td>\n",
       "      <td>0.577271</td>\n",
       "      <td>NaN</td>\n",
       "      <td>-0.582416</td>\n",
       "      <td>1.554048</td>\n",
       "    </tr>\n",
       "    <tr>\n",
       "      <th>3</th>\n",
       "      <td>K12qauF5dl</td>\n",
       "      <td>NaN</td>\n",
       "      <td>-0.328478</td>\n",
       "      <td>-0.752027</td>\n",
       "      <td>0.205167</td>\n",
       "    </tr>\n",
       "    <tr>\n",
       "      <th>4</th>\n",
       "      <td>OY4I1Q87Oz</td>\n",
       "      <td>1.949835</td>\n",
       "      <td>1.496792</td>\n",
       "      <td>-1.128963</td>\n",
       "      <td>0.188560</td>\n",
       "    </tr>\n",
       "  </tbody>\n",
       "</table>\n",
       "</div>"
      ],
      "text/plain": [
       "            Z         A         B         C         D\n",
       "0  4Lhj84vnok  1.496130 -1.578714  0.106576 -0.224222\n",
       "1  Bo3U175t56 -0.426451 -2.037751  0.113148  0.171161\n",
       "2  kNCAeF3dNF  0.577271       NaN -0.582416  1.554048\n",
       "3  K12qauF5dl       NaN -0.328478 -0.752027  0.205167\n",
       "4  OY4I1Q87Oz  1.949835  1.496792 -1.128963  0.188560"
      ]
     },
     "execution_count": 6,
     "metadata": {},
     "output_type": "execute_result"
    }
   ],
   "source": [
    "df = df.rename(columns={'index' : 'Z'})\n",
    "df.head()"
   ]
  },
  {
   "cell_type": "markdown",
   "id": "ef7e44fe",
   "metadata": {},
   "source": [
    "### Backup data"
   ]
  },
  {
   "cell_type": "code",
   "execution_count": 7,
   "id": "636dce89",
   "metadata": {},
   "outputs": [],
   "source": [
    "df_backup = df.copy(deep=True)"
   ]
  },
  {
   "cell_type": "markdown",
   "id": "4595abdb",
   "metadata": {},
   "source": [
    "Menghapus kolom yang mengandung missing values"
   ]
  },
  {
   "cell_type": "code",
   "execution_count": 8,
   "id": "ec880cc9",
   "metadata": {},
   "outputs": [
    {
     "data": {
      "text/html": [
       "<div>\n",
       "<style scoped>\n",
       "    .dataframe tbody tr th:only-of-type {\n",
       "        vertical-align: middle;\n",
       "    }\n",
       "\n",
       "    .dataframe tbody tr th {\n",
       "        vertical-align: top;\n",
       "    }\n",
       "\n",
       "    .dataframe thead th {\n",
       "        text-align: right;\n",
       "    }\n",
       "</style>\n",
       "<table border=\"1\" class=\"dataframe\">\n",
       "  <thead>\n",
       "    <tr style=\"text-align: right;\">\n",
       "      <th></th>\n",
       "      <th>Z</th>\n",
       "    </tr>\n",
       "  </thead>\n",
       "  <tbody>\n",
       "    <tr>\n",
       "      <th>0</th>\n",
       "      <td>4Lhj84vnok</td>\n",
       "    </tr>\n",
       "    <tr>\n",
       "      <th>1</th>\n",
       "      <td>Bo3U175t56</td>\n",
       "    </tr>\n",
       "    <tr>\n",
       "      <th>2</th>\n",
       "      <td>kNCAeF3dNF</td>\n",
       "    </tr>\n",
       "    <tr>\n",
       "      <th>3</th>\n",
       "      <td>K12qauF5dl</td>\n",
       "    </tr>\n",
       "    <tr>\n",
       "      <th>4</th>\n",
       "      <td>OY4I1Q87Oz</td>\n",
       "    </tr>\n",
       "  </tbody>\n",
       "</table>\n",
       "</div>"
      ],
      "text/plain": [
       "            Z\n",
       "0  4Lhj84vnok\n",
       "1  Bo3U175t56\n",
       "2  kNCAeF3dNF\n",
       "3  K12qauF5dl\n",
       "4  OY4I1Q87Oz"
      ]
     },
     "execution_count": 8,
     "metadata": {},
     "output_type": "execute_result"
    }
   ],
   "source": [
    "df = df.dropna(axis='columns')\n",
    "df.head()"
   ]
  },
  {
   "cell_type": "markdown",
   "id": "c26e99a9",
   "metadata": {},
   "source": [
    "### Menghapus baris yang mengandung missing values"
   ]
  },
  {
   "cell_type": "code",
   "execution_count": 10,
   "id": "2da93fbe",
   "metadata": {},
   "outputs": [
    {
     "data": {
      "text/html": [
       "<div>\n",
       "<style scoped>\n",
       "    .dataframe tbody tr th:only-of-type {\n",
       "        vertical-align: middle;\n",
       "    }\n",
       "\n",
       "    .dataframe tbody tr th {\n",
       "        vertical-align: top;\n",
       "    }\n",
       "\n",
       "    .dataframe thead th {\n",
       "        text-align: right;\n",
       "    }\n",
       "</style>\n",
       "<table border=\"1\" class=\"dataframe\">\n",
       "  <thead>\n",
       "    <tr style=\"text-align: right;\">\n",
       "      <th></th>\n",
       "      <th>Z</th>\n",
       "      <th>A</th>\n",
       "      <th>B</th>\n",
       "      <th>C</th>\n",
       "      <th>D</th>\n",
       "    </tr>\n",
       "  </thead>\n",
       "  <tbody>\n",
       "    <tr>\n",
       "      <th>0</th>\n",
       "      <td>4Lhj84vnok</td>\n",
       "      <td>1.496130</td>\n",
       "      <td>-1.578714</td>\n",
       "      <td>0.106576</td>\n",
       "      <td>-0.224222</td>\n",
       "    </tr>\n",
       "    <tr>\n",
       "      <th>1</th>\n",
       "      <td>Bo3U175t56</td>\n",
       "      <td>-0.426451</td>\n",
       "      <td>-2.037751</td>\n",
       "      <td>0.113148</td>\n",
       "      <td>0.171161</td>\n",
       "    </tr>\n",
       "    <tr>\n",
       "      <th>4</th>\n",
       "      <td>OY4I1Q87Oz</td>\n",
       "      <td>1.949835</td>\n",
       "      <td>1.496792</td>\n",
       "      <td>-1.128963</td>\n",
       "      <td>0.188560</td>\n",
       "    </tr>\n",
       "    <tr>\n",
       "      <th>5</th>\n",
       "      <td>nAwfvA5rte</td>\n",
       "      <td>2.252642</td>\n",
       "      <td>0.494909</td>\n",
       "      <td>-1.002778</td>\n",
       "      <td>-0.190715</td>\n",
       "    </tr>\n",
       "    <tr>\n",
       "      <th>6</th>\n",
       "      <td>njZCt5NgcO</td>\n",
       "      <td>-0.561485</td>\n",
       "      <td>-0.263983</td>\n",
       "      <td>0.242996</td>\n",
       "      <td>0.075206</td>\n",
       "    </tr>\n",
       "  </tbody>\n",
       "</table>\n",
       "</div>"
      ],
      "text/plain": [
       "            Z         A         B         C         D\n",
       "0  4Lhj84vnok  1.496130 -1.578714  0.106576 -0.224222\n",
       "1  Bo3U175t56 -0.426451 -2.037751  0.113148  0.171161\n",
       "4  OY4I1Q87Oz  1.949835  1.496792 -1.128963  0.188560\n",
       "5  nAwfvA5rte  2.252642  0.494909 -1.002778 -0.190715\n",
       "6  njZCt5NgcO -0.561485 -0.263983  0.242996  0.075206"
      ]
     },
     "execution_count": 10,
     "metadata": {},
     "output_type": "execute_result"
    }
   ],
   "source": [
    "df = df_backup.copy(deep=True)\n",
    "df = df.dropna(axis='rows')\n",
    "df.head()"
   ]
  },
  {
   "cell_type": "markdown",
   "id": "f1479817",
   "metadata": {},
   "source": [
    "### Melihat persentase missing values untuk tiap kolom"
   ]
  },
  {
   "cell_type": "code",
   "execution_count": 11,
   "id": "0ea4af26",
   "metadata": {},
   "outputs": [
    {
     "data": {
      "text/plain": [
       "Z    0.000000\n",
       "A    0.133333\n",
       "B    0.100000\n",
       "C    0.133333\n",
       "D    0.033333\n",
       "dtype: float64"
      ]
     },
     "execution_count": 11,
     "metadata": {},
     "output_type": "execute_result"
    }
   ],
   "source": [
    "f = df_backup.copy(deep=True)\n",
    "df.isna().mean()"
   ]
  }
 ],
 "metadata": {
  "kernelspec": {
   "display_name": "Python 3 (ipykernel)",
   "language": "python",
   "name": "python3"
  },
  "language_info": {
   "codemirror_mode": {
    "name": "ipython",
    "version": 3
   },
   "file_extension": ".py",
   "mimetype": "text/x-python",
   "name": "python",
   "nbconvert_exporter": "python",
   "pygments_lexer": "ipython3",
   "version": "3.9.7"
  }
 },
 "nbformat": 4,
 "nbformat_minor": 5
}
